{
 "cells": [
  {
   "cell_type": "markdown",
   "id": "dbbdf0f6-027d-4f26-a55e-5bf53ff46b29",
   "metadata": {},
   "source": [
    "# Aplicando o Método JT pelo R"
   ]
  },
  {
   "cell_type": "markdown",
   "id": "9886928d-d906-4f92-86e0-cb2d8cd3434f",
   "metadata": {},
   "source": [
    "## **Importação do documento**\n",
    "Para calcular o Índice de Mudança Confiável e de Significância Clínica no R, é necessário primeiro importar o documento para manipulação no programa. Serão utilizados os dados coletados antes e após o Treinamento de Habilidades Sociais da pesquisa realizada por Siqueira et al. (2021). Neste exemplo uma planilha em formato .xlsx será usada, mas isso poderia igualmente ser realizado com um arquivo .csv ou outros formatos. Para este propósito será empregado o pacote readxl. Para instalá-lo basta executar a linha de código:\n"
   ]
  },
  {
   "cell_type": "code",
   "execution_count": null,
   "id": "9acd11c8-6097-4829-9a15-03ebc42ad057",
   "metadata": {},
   "outputs": [],
   "source": [
    "install.packages(\"readxl\")"
   ]
  },
  {
   "cell_type": "markdown",
   "id": "b42968cc-335e-4b65-85f6-9a38603480ce",
   "metadata": {},
   "source": [
    "Tendo este pacote sido instalado, a importação do documento pode ser feita da seguinte forma (tendo em mente a necessidade de colocar endereço completo da localização da planilha entre as aspas):"
   ]
  },
  {
   "cell_type": "code",
   "execution_count": 1,
   "id": "75fa689a-ff48-40c4-b474-5dfdf5cffa05",
   "metadata": {},
   "outputs": [],
   "source": [
    "data <- readxl::read_excel(\"dados.xlsx\")"
   ]
  },
  {
   "cell_type": "markdown",
   "id": "3754ae42-c3c1-42cb-a147-e41705e221ac",
   "metadata": {},
   "source": [
    "Utilizando o comando *head()*, podemos verificar as seis primeiras entradas do programa. A disposição e conteúdo refletem a do documento importado:\n"
   ]
  },
  {
   "cell_type": "code",
   "execution_count": 2,
   "id": "c3cefebb-c460-454a-b771-a29fd78d00db",
   "metadata": {},
   "outputs": [
    {
     "data": {
      "text/html": [
       "<table>\n",
       "<caption>A tibble: 6 × 7</caption>\n",
       "<thead>\n",
       "\t<tr><th scope=col>sujeitos</th><th scope=col>Idade</th><th scope=col>Gênero</th><th scope=col>CoopAfetProT1</th><th scope=col>CoopAfetProT2</th><th scope=col>PCExtProT1</th><th scope=col>PCExtProT2</th></tr>\n",
       "\t<tr><th scope=col>&lt;dbl&gt;</th><th scope=col>&lt;dbl&gt;</th><th scope=col>&lt;dbl&gt;</th><th scope=col>&lt;dbl&gt;</th><th scope=col>&lt;dbl&gt;</th><th scope=col>&lt;dbl&gt;</th><th scope=col>&lt;dbl&gt;</th></tr>\n",
       "</thead>\n",
       "<tbody>\n",
       "\t<tr><td>1</td><td>10</td><td>2</td><td>1.6666667</td><td>2.000000</td><td>0.6666667</td><td>0.3333333</td></tr>\n",
       "\t<tr><td>2</td><td>10</td><td>2</td><td>0.0000000</td><td>1.000000</td><td>0.5000000</td><td>1.0000000</td></tr>\n",
       "\t<tr><td>3</td><td>10</td><td>1</td><td>0.3333333</td><td>1.333333</td><td>1.8333333</td><td>1.3333333</td></tr>\n",
       "\t<tr><td>4</td><td>10</td><td>2</td><td>1.6666667</td><td>1.333333</td><td>0.3333333</td><td>1.0000000</td></tr>\n",
       "\t<tr><td>5</td><td>10</td><td>1</td><td>2.0000000</td><td>1.000000</td><td>0.6666667</td><td>1.1666667</td></tr>\n",
       "\t<tr><td>6</td><td>13</td><td>2</td><td>0.6666667</td><td>1.666667</td><td>0.5000000</td><td>0.5000000</td></tr>\n",
       "</tbody>\n",
       "</table>\n"
      ],
      "text/latex": [
       "A tibble: 6 × 7\n",
       "\\begin{tabular}{lllllll}\n",
       " sujeitos & Idade & Gênero & CoopAfetProT1 & CoopAfetProT2 & PCExtProT1 & PCExtProT2\\\\\n",
       " <dbl> & <dbl> & <dbl> & <dbl> & <dbl> & <dbl> & <dbl>\\\\\n",
       "\\hline\n",
       "\t 1 & 10 & 2 & 1.6666667 & 2.000000 & 0.6666667 & 0.3333333\\\\\n",
       "\t 2 & 10 & 2 & 0.0000000 & 1.000000 & 0.5000000 & 1.0000000\\\\\n",
       "\t 3 & 10 & 1 & 0.3333333 & 1.333333 & 1.8333333 & 1.3333333\\\\\n",
       "\t 4 & 10 & 2 & 1.6666667 & 1.333333 & 0.3333333 & 1.0000000\\\\\n",
       "\t 5 & 10 & 1 & 2.0000000 & 1.000000 & 0.6666667 & 1.1666667\\\\\n",
       "\t 6 & 13 & 2 & 0.6666667 & 1.666667 & 0.5000000 & 0.5000000\\\\\n",
       "\\end{tabular}\n"
      ],
      "text/markdown": [
       "\n",
       "A tibble: 6 × 7\n",
       "\n",
       "| sujeitos &lt;dbl&gt; | Idade &lt;dbl&gt; | Gênero &lt;dbl&gt; | CoopAfetProT1 &lt;dbl&gt; | CoopAfetProT2 &lt;dbl&gt; | PCExtProT1 &lt;dbl&gt; | PCExtProT2 &lt;dbl&gt; |\n",
       "|---|---|---|---|---|---|---|\n",
       "| 1 | 10 | 2 | 1.6666667 | 2.000000 | 0.6666667 | 0.3333333 |\n",
       "| 2 | 10 | 2 | 0.0000000 | 1.000000 | 0.5000000 | 1.0000000 |\n",
       "| 3 | 10 | 1 | 0.3333333 | 1.333333 | 1.8333333 | 1.3333333 |\n",
       "| 4 | 10 | 2 | 1.6666667 | 1.333333 | 0.3333333 | 1.0000000 |\n",
       "| 5 | 10 | 1 | 2.0000000 | 1.000000 | 0.6666667 | 1.1666667 |\n",
       "| 6 | 13 | 2 | 0.6666667 | 1.666667 | 0.5000000 | 0.5000000 |\n",
       "\n"
      ],
      "text/plain": [
       "  sujeitos Idade Gênero CoopAfetProT1 CoopAfetProT2 PCExtProT1 PCExtProT2\n",
       "1 1        10    2      1.6666667     2.000000      0.6666667  0.3333333 \n",
       "2 2        10    2      0.0000000     1.000000      0.5000000  1.0000000 \n",
       "3 3        10    1      0.3333333     1.333333      1.8333333  1.3333333 \n",
       "4 4        10    2      1.6666667     1.333333      0.3333333  1.0000000 \n",
       "5 5        10    1      2.0000000     1.000000      0.6666667  1.1666667 \n",
       "6 6        13    2      0.6666667     1.666667      0.5000000  0.5000000 "
      ]
     },
     "metadata": {},
     "output_type": "display_data"
    }
   ],
   "source": [
    "head(data)"
   ]
  },
  {
   "cell_type": "markdown",
   "id": "d53779f4-0308-447a-b128-6cff165f046c",
   "metadata": {},
   "source": [
    "## **Definição de constantes**\n",
    "Uma vez que o status do documento foi verificado, antes de dar prosseguimento cabe que sejam definidas as constantes utilizadas no programa. É prejudicial para a compreensão e legibilidade do código não transformar quaisquer números ou valores importantes em variáveis, e portanto os valores extremos do índice de mudança confiável (1,96 e -1,96) e o Alfa de Cronbach da amostra, previamente calculado, são a seguir definidos:"
   ]
  },
  {
   "cell_type": "code",
   "execution_count": 3,
   "id": "36f1aa9a-c993-48de-97c1-34cf74ea9402",
   "metadata": {},
   "outputs": [],
   "source": [
    "CONF <- 1.96 # valor de corte do índice de mudança confiável\n",
    "ALPHA_coop <- 0.78 # alfa referente à variável \n",
    "# Cooperação/Afetividade (coop) avaliada pelos professores"
   ]
  },
  {
   "cell_type": "markdown",
   "id": "0168868c-5c5c-4e37-af08-fb4267dfd562",
   "metadata": {},
   "source": [
    "## **Cálculo do ponto de corte** \n",
    "Tendo isto sendo feito, o cálculo do ponto de corte da significância clínica pode ser feito de forma breve. Faremos o cálculo referente apenas à variável Cooperação/Afetividade (coop). Utilizamos a função *mean()* para calcular a média e a função *sd()* para calcular o desvio-padrão:"
   ]
  },
  {
   "cell_type": "code",
   "execution_count": 5,
   "id": "84e1d95b-6ed5-4895-8a21-ea4ae9a5629e",
   "metadata": {},
   "outputs": [],
   "source": [
    "coop <- data[4:5] # pois a quarta e a quinta coluna referem aos escores pré- e pós-teste desta variável\n",
    "coop.pre <- coop[[1]] # os escores pré-teste da variável cooperação estão na primeira coluna do elemento \"coop\".\n",
    "\n",
    "# média; a função “mean()” é utilizada para calcular a média\n",
    "m.coop <- mean(coop.pre)\n",
    "\n",
    "# desvio-padrão; a função para cálculo do desvio padrão é “sd()”\n",
    "sd.coop <- sd(coop.pre)\n",
    "\n",
    "# ponto de corte\n",
    "corte.coop <- m.coop + (2*sd.coop)"
   ]
  },
  {
   "cell_type": "markdown",
   "id": "5efc717e-218b-4828-8a31-d2209fcc7d64",
   "metadata": {},
   "source": [
    "## **Cálculo do Índice de Mudança Confiável** \n",
    "Para calcular o IMC, é necessário utilizar os escores pós-teste das variáveis.  Como as variáveis com escores pré- e pós-teste de ambas as variáveis foram feitos anteriormente, isso pode ser feito da seguinte forma:"
   ]
  },
  {
   "cell_type": "code",
   "execution_count": 6,
   "id": "3168da30-b51b-47e4-9927-59b9a9e4cc5c",
   "metadata": {},
   "outputs": [],
   "source": [
    "# Em ambas as variáveis, a segunda coluna representa os escores pós-teste.\n",
    "coop.pos <- coop[[2]]"
   ]
  },
  {
   "cell_type": "markdown",
   "id": "b7a217ce-be0e-4482-aca3-35fe70f0c2d3",
   "metadata": {},
   "source": [
    "É necessário calcular primeiro o Erro Padrão de Medida:"
   ]
  },
  {
   "cell_type": "code",
   "execution_count": 7,
   "id": "b04709df-9f4c-43aa-9477-45eb27b5fb77",
   "metadata": {},
   "outputs": [],
   "source": [
    "# para a variável coop\n",
    "ep_medida.coop <- sd.coop * sqrt(1-ALPHA_coop)"
   ]
  },
  {
   "cell_type": "markdown",
   "id": "68a90d61-3470-450b-82ad-e25a932757e2",
   "metadata": {},
   "source": [
    "E então o Erro Padrão da Diferença:"
   ]
  },
  {
   "cell_type": "code",
   "execution_count": 8,
   "id": "47e3df0e-133c-4440-847e-a83464b4d5d5",
   "metadata": {},
   "outputs": [],
   "source": [
    "ep_diferenca.coop <- sqrt(2*(ep_medida.coop**2))"
   ]
  },
  {
   "cell_type": "markdown",
   "id": "bc2a31c3-2bda-4153-9bae-0291d847a4d8",
   "metadata": {},
   "source": [
    "O IMC é calculado a seguir. Como os valores das variáveis coop.pre e coop.pos se referem aos escores puros, elas são posteriormente reorganizadas em uma tabela com a função *data.frame()*:"
   ]
  },
  {
   "cell_type": "code",
   "execution_count": 9,
   "id": "c368e8f9-2dcb-43ca-a382-c985aafff675",
   "metadata": {},
   "outputs": [],
   "source": [
    "IMC_coop <- (coop.pos - coop.pre) / ep_diferenca.coop\n",
    "imc.coop.df <- data.frame(IMC_coop)"
   ]
  },
  {
   "cell_type": "markdown",
   "id": "681bbfa7-45cb-4047-926c-74a4ffd278e8",
   "metadata": {},
   "source": [
    "## Organizando variáveis\n",
    " Os valores agora obtidos podem ser transformados e adicionados como uma nova coluna às variável coop e pc.ext:"
   ]
  },
  {
   "cell_type": "code",
   "execution_count": 10,
   "id": "3364fa7d-986e-4f68-9304-e30113eccc06",
   "metadata": {},
   "outputs": [],
   "source": [
    "# como a variável coop possui duas colunas, a primeira referente aos escores pré-teste \n",
    "# e a segunda, aos escores pós-teste, uma terceira coluna, contendo os valores atribuídos \n",
    "# à variável imc.coop.df pode ser criada da seguinte forma: \n",
    "coop[3] <- imc.coop.df\n",
    "# então se renomeia esta coluna utilizando a variável name() por motivos de auxiliar a compreensão:\n",
    "names(coop)[3] <- \"IMC\""
   ]
  },
  {
   "cell_type": "markdown",
   "id": "1a726d62-3c2b-45c1-bae1-cfdb217dc2f8",
   "metadata": {},
   "source": [
    "Podemos então obter a interpretação dos resultados observando os valores da coluna IMC. Se os valores forem superiores a 1,96, então há mudança positiva confiável. Se os valores forem inferiores a -1,96, há mudança negativa confiável. Em caso de valores superiores a -1,96, mas inferiores a 1,96, então há uma ausência de mudança confiável. Podemos, entretanto, delegar essa interpretação ao próprio R criando uma nova função e aplicando-a aos valores da coluna 3 com a função apply():"
   ]
  },
  {
   "cell_type": "code",
   "execution_count": 11,
   "id": "57e92a50-b46a-4675-a9c3-490f6f27f44a",
   "metadata": {},
   "outputs": [],
   "source": [
    "# MDC = mudança positiva confiável\n",
    "# MNC = mudança negativa confiável\n",
    "# ADM = ausência de mudança\n",
    "mudança <- function(value) {\n",
    "        if (value > 1.96) { return(\"MPC\") }\n",
    "        else if (value < -1.96) { return(\"MNC\") } \n",
    "        else if ((value > -1.96) & (value < 1.96)) {return(\"ADM\") }\n",
    "      }\n",
    "# interpretação para a variável coop\n",
    "coop[4] <- apply(coop[3], 1, mudança)\n",
    "names(coop)[4] <- \"Interpretação\""
   ]
  },
  {
   "cell_type": "markdown",
   "id": "bf0363dd-16b0-48d2-88c2-ced18bcbe2f5",
   "metadata": {},
   "source": [
    "E então utilizamos head() para verificar parte dos resultados: "
   ]
  },
  {
   "cell_type": "code",
   "execution_count": 12,
   "id": "82d105e0-5a26-41a8-acac-f16bcc80321a",
   "metadata": {},
   "outputs": [
    {
     "data": {
      "text/html": [
       "<table>\n",
       "<caption>A tibble: 6 × 4</caption>\n",
       "<thead>\n",
       "\t<tr><th scope=col>CoopAfetProT1</th><th scope=col>CoopAfetProT2</th><th scope=col>IMC</th><th scope=col>Interpretação</th></tr>\n",
       "\t<tr><th scope=col>&lt;dbl&gt;</th><th scope=col>&lt;dbl&gt;</th><th scope=col>&lt;dbl&gt;</th><th scope=col>&lt;chr&gt;</th></tr>\n",
       "</thead>\n",
       "<tbody>\n",
       "\t<tr><td>1.6666667</td><td>2.000000</td><td> 1.062333</td><td>ADM</td></tr>\n",
       "\t<tr><td>0.0000000</td><td>1.000000</td><td> 3.186998</td><td>MPC</td></tr>\n",
       "\t<tr><td>0.3333333</td><td>1.333333</td><td> 3.186998</td><td>MPC</td></tr>\n",
       "\t<tr><td>1.6666667</td><td>1.333333</td><td>-1.062333</td><td>ADM</td></tr>\n",
       "\t<tr><td>2.0000000</td><td>1.000000</td><td>-3.186998</td><td>MNC</td></tr>\n",
       "\t<tr><td>0.6666667</td><td>1.666667</td><td> 3.186998</td><td>MPC</td></tr>\n",
       "</tbody>\n",
       "</table>\n"
      ],
      "text/latex": [
       "A tibble: 6 × 4\n",
       "\\begin{tabular}{llll}\n",
       " CoopAfetProT1 & CoopAfetProT2 & IMC & Interpretação\\\\\n",
       " <dbl> & <dbl> & <dbl> & <chr>\\\\\n",
       "\\hline\n",
       "\t 1.6666667 & 2.000000 &  1.062333 & ADM\\\\\n",
       "\t 0.0000000 & 1.000000 &  3.186998 & MPC\\\\\n",
       "\t 0.3333333 & 1.333333 &  3.186998 & MPC\\\\\n",
       "\t 1.6666667 & 1.333333 & -1.062333 & ADM\\\\\n",
       "\t 2.0000000 & 1.000000 & -3.186998 & MNC\\\\\n",
       "\t 0.6666667 & 1.666667 &  3.186998 & MPC\\\\\n",
       "\\end{tabular}\n"
      ],
      "text/markdown": [
       "\n",
       "A tibble: 6 × 4\n",
       "\n",
       "| CoopAfetProT1 &lt;dbl&gt; | CoopAfetProT2 &lt;dbl&gt; | IMC &lt;dbl&gt; | Interpretação &lt;chr&gt; |\n",
       "|---|---|---|---|\n",
       "| 1.6666667 | 2.000000 |  1.062333 | ADM |\n",
       "| 0.0000000 | 1.000000 |  3.186998 | MPC |\n",
       "| 0.3333333 | 1.333333 |  3.186998 | MPC |\n",
       "| 1.6666667 | 1.333333 | -1.062333 | ADM |\n",
       "| 2.0000000 | 1.000000 | -3.186998 | MNC |\n",
       "| 0.6666667 | 1.666667 |  3.186998 | MPC |\n",
       "\n"
      ],
      "text/plain": [
       "  CoopAfetProT1 CoopAfetProT2 IMC       Interpretação\n",
       "1 1.6666667     2.000000       1.062333 ADM          \n",
       "2 0.0000000     1.000000       3.186998 MPC          \n",
       "3 0.3333333     1.333333       3.186998 MPC          \n",
       "4 1.6666667     1.333333      -1.062333 ADM          \n",
       "5 2.0000000     1.000000      -3.186998 MNC          \n",
       "6 0.6666667     1.666667       3.186998 MPC          "
      ]
     },
     "metadata": {},
     "output_type": "display_data"
    }
   ],
   "source": [
    "head(coop)"
   ]
  },
  {
   "cell_type": "markdown",
   "id": "c41ae936-9730-4b8e-bd55-10a949b27081",
   "metadata": {},
   "source": [
    "Podemos reduzir as casas decimais utilizando da coluna IMC a função *round()*. Esta função recebe dois parâmetros: o primeiro é o número (ou grupo de números) a ser arredondado, e o segundo é o número de casas decimais a manter. Para o primeiro parâmetro utilizamos *coop[3]* pois o escore do IMC que estamos arredondando se encontra na terceira coluna da variável coop. Serão mantidas duas casas decimais:"
   ]
  },
  {
   "cell_type": "code",
   "execution_count": 13,
   "id": "e239912a-0aea-42bb-afd3-982d4f143c97",
   "metadata": {},
   "outputs": [],
   "source": [
    "coop[3] <- round(coop[3], 2)"
   ]
  },
  {
   "cell_type": "markdown",
   "id": "3db2a9b9-494a-44e7-9da9-12578c36fa3b",
   "metadata": {},
   "source": [
    "Podemos, por outro lado, fazer isso com as três primerias colunas da seguinte forma:"
   ]
  },
  {
   "cell_type": "code",
   "execution_count": 14,
   "id": "f8aa7084-ef53-42c7-8351-a7ac8c504a87",
   "metadata": {},
   "outputs": [],
   "source": [
    "coop[1:3] <- round(coop[1:3], 2)"
   ]
  },
  {
   "cell_type": "code",
   "execution_count": 15,
   "id": "22f65fd3-9d0e-4f3f-a9fc-70400225a753",
   "metadata": {},
   "outputs": [
    {
     "data": {
      "text/html": [
       "<table>\n",
       "<caption>A tibble: 6 × 4</caption>\n",
       "<thead>\n",
       "\t<tr><th scope=col>CoopAfetProT1</th><th scope=col>CoopAfetProT2</th><th scope=col>IMC</th><th scope=col>Interpretação</th></tr>\n",
       "\t<tr><th scope=col>&lt;dbl&gt;</th><th scope=col>&lt;dbl&gt;</th><th scope=col>&lt;dbl&gt;</th><th scope=col>&lt;chr&gt;</th></tr>\n",
       "</thead>\n",
       "<tbody>\n",
       "\t<tr><td>1.67</td><td>2.00</td><td> 1.06</td><td>ADM</td></tr>\n",
       "\t<tr><td>0.00</td><td>1.00</td><td> 3.19</td><td>MPC</td></tr>\n",
       "\t<tr><td>0.33</td><td>1.33</td><td> 3.19</td><td>MPC</td></tr>\n",
       "\t<tr><td>1.67</td><td>1.33</td><td>-1.06</td><td>ADM</td></tr>\n",
       "\t<tr><td>2.00</td><td>1.00</td><td>-3.19</td><td>MNC</td></tr>\n",
       "\t<tr><td>0.67</td><td>1.67</td><td> 3.19</td><td>MPC</td></tr>\n",
       "</tbody>\n",
       "</table>\n"
      ],
      "text/latex": [
       "A tibble: 6 × 4\n",
       "\\begin{tabular}{llll}\n",
       " CoopAfetProT1 & CoopAfetProT2 & IMC & Interpretação\\\\\n",
       " <dbl> & <dbl> & <dbl> & <chr>\\\\\n",
       "\\hline\n",
       "\t 1.67 & 2.00 &  1.06 & ADM\\\\\n",
       "\t 0.00 & 1.00 &  3.19 & MPC\\\\\n",
       "\t 0.33 & 1.33 &  3.19 & MPC\\\\\n",
       "\t 1.67 & 1.33 & -1.06 & ADM\\\\\n",
       "\t 2.00 & 1.00 & -3.19 & MNC\\\\\n",
       "\t 0.67 & 1.67 &  3.19 & MPC\\\\\n",
       "\\end{tabular}\n"
      ],
      "text/markdown": [
       "\n",
       "A tibble: 6 × 4\n",
       "\n",
       "| CoopAfetProT1 &lt;dbl&gt; | CoopAfetProT2 &lt;dbl&gt; | IMC &lt;dbl&gt; | Interpretação &lt;chr&gt; |\n",
       "|---|---|---|---|\n",
       "| 1.67 | 2.00 |  1.06 | ADM |\n",
       "| 0.00 | 1.00 |  3.19 | MPC |\n",
       "| 0.33 | 1.33 |  3.19 | MPC |\n",
       "| 1.67 | 1.33 | -1.06 | ADM |\n",
       "| 2.00 | 1.00 | -3.19 | MNC |\n",
       "| 0.67 | 1.67 |  3.19 | MPC |\n",
       "\n"
      ],
      "text/plain": [
       "  CoopAfetProT1 CoopAfetProT2 IMC   Interpretação\n",
       "1 1.67          2.00           1.06 ADM          \n",
       "2 0.00          1.00           3.19 MPC          \n",
       "3 0.33          1.33           3.19 MPC          \n",
       "4 1.67          1.33          -1.06 ADM          \n",
       "5 2.00          1.00          -3.19 MNC          \n",
       "6 0.67          1.67           3.19 MPC          "
      ]
     },
     "metadata": {},
     "output_type": "display_data"
    }
   ],
   "source": [
    "head(coop)"
   ]
  },
  {
   "cell_type": "markdown",
   "id": "502f9258-9e63-4744-90f2-136db707d9dc",
   "metadata": {},
   "source": [
    "## **Construção de gráficos**\n",
    " Isso é o bastante para o cálculo e interpretação da mudança provocada por uma intervenção pelo método JT. Caso se queira, entretanto, produzir gráficos para promover uma interpretação visual dos resultados, isso pode ser feito utilizando a função *plot()*.\n",
    "\n",
    "Nesta função, o parâmetro *x* corresponde ao eixo-x, e o parâmetro *y*, ao eixo-y. Os parâmetros *xlim* e *ylim* representam, respectivamente, os valores mínimo e máximo da linha do eixo-x e da linha do eixo-y. Os valores aqui adotados adotados foram escolhidos por conveniência, para facilitar a interpretação do gráfico.\n",
    "\n",
    "Os parâmetros *xlab* e *ylab* correspondem, respectivamente, às legendas do eixo-x e do eixo-y. \n",
    "\n",
    "Por padrão, o R representa os resultados como círculos pretos ocos no gráfico, mas como nesta amostra há múltiplos indivíduos que se sobrepõem no gráfico, decidimos representá-los por círculos e triângulos de cores azul e vermelho parcialmente translúcidos, para que seja possível identificar a sobreposição de indivíduos pela cor e pela forma. Isso é representado pelos parâmetros *pch* e *col*, que correspondem, respectivamente, às formas utilizadas e às cores utilizadas. As cores utilizadas estão em formato de hexadecimal, vermelho e azul, com 50% de opacidade. Os valores 1 e 2, na variável pch, correspondem ao círculo e ao triângulo. \n",
    "\n",
    "O comando *plot()* deve ser seguido do comando *abline()* para desenhar linhas. Esta função será utilizada para exibir as linhas da bissetriz, as linhas que assinalam os intervalos de mudança confiável e a que representa a significância clínica.\n",
    "\n",
    "O primeiro parâmetro da função *abline()* corresponde ao coeficiente linear, e o segundo, ao coeficiente angular da reta. Assim, a exibição do gráfico dos resultados para a variável Cooperação/Expressividade pode ser feita da seguinte forma:\n"
   ]
  },
  {
   "cell_type": "code",
   "execution_count": 17,
   "id": "3c0b812f-bcbd-4c01-b427-55e5fc63b729",
   "metadata": {},
   "outputs": [
    {
     "data": {
      "image/png": "[encoded data removed]",
      "text/plain": [
       "plot without title"
      ]
     },
     "metadata": {
      "image/png": {
       "height": 420,
       "width": 420
      }
     },
     "output_type": "display_data"
    }
   ],
   "source": [
    "# o eixo-x representa os escores pré-teste e o eixo-y representa os escores pós-teste.\n",
    "plot(x=coop.pre, y=coop.pos,\n",
    "     xlim=c(-0.5,3), ylim=c(-0.5,3), pch=c(1,2), col=c(\"#ff000088\",\"#0000ff88\"),\n",
    "     xlab=\"Cooperação Pré\", ylab=\"Cooperação Pós\")\n",
    "# com 0 de coeficiente linear e 1 de coeficiente angular, \n",
    "# garantimos que x=y para cada ponto atravessado pela bissetriz, \n",
    "# de modo que ficarão exatamente sobre a bissetriz apenas os indivíduos que não exibiram nenhuma mudança. \n",
    "\n",
    "\n",
    "abline(0,1)\n",
    "# O parâmetro lty representa a linha. lty=2 corresponde a linhas tracejadas, e lty=3, a linhas pontilhadas\n",
    "\n",
    "\n",
    "# utilizamos a variável corte.coop para representar a linha de corte da significância clínica. \n",
    "# O parâmetro h indica que a linha deve ser desenhada na horizontal.\n",
    "\n",
    "abline(h=corte.coop, lty=2)\n",
    "# utilizamos a variável limite_coop para representar o limite superior do IMC. \n",
    "# É utilizada a constante CONF que definimos anteriormente.\n",
    "limite_coop <- CONF*ep_diferenca.coop\n",
    "\n",
    "abline(limite_coop,1, lty=3)\n",
    "# para representar o limite inferior do IMC, utilizamos o negativo da variável limite_coop.\n",
    "abline(-limite_coop,1,lty=3)"
   ]
  }
 ],
 "metadata": {
  "kernelspec": {
   "display_name": "R",
   "language": "R",
   "name": "ir"
  },
  "language_info": {
   "codemirror_mode": "r",
   "file_extension": ".r",
   "mimetype": "text/x-r-source",
   "name": "R",
   "pygments_lexer": "r",
   "version": "3.5.2"
  }
 },
 "nbformat": 4,
 "nbformat_minor": 5
}
